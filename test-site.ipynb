{
 "metadata": {
  "language_info": {
   "codemirror_mode": {
    "name": "ipython",
    "version": 3
   },
   "file_extension": ".py",
   "mimetype": "text/x-python",
   "name": "python",
   "nbconvert_exporter": "python",
   "pygments_lexer": "ipython3",
   "version": "3.8.5"
  },
  "orig_nbformat": 4,
  "kernelspec": {
   "name": "python3",
   "display_name": "Python 3.8.5 64-bit ('dev-env': venv)"
  },
  "interpreter": {
   "hash": "75cad303c463681acd9c1ebf4b4a4a82a591693ad0e5930fa1df818e031e4223"
  }
 },
 "nbformat": 4,
 "nbformat_minor": 2,
 "cells": [
  {
   "cell_type": "code",
   "execution_count": 11,
   "metadata": {},
   "outputs": [],
   "source": [
    "import sqlite3"
   ]
  },
  {
   "cell_type": "code",
   "execution_count": 12,
   "metadata": {},
   "outputs": [],
   "source": [
    "from flask import Flask\n",
    "from flask_sqlalchemy import SQLAlchemy"
   ]
  },
  {
   "cell_type": "code",
   "execution_count": 13,
   "metadata": {},
   "outputs": [
    {
     "output_type": "error",
     "ename": "SyntaxError",
     "evalue": "invalid syntax (<ipython-input-13-9bf85da249b3>, line 1)",
     "traceback": [
      "\u001b[0;36m  File \u001b[0;32m\"<ipython-input-13-9bf85da249b3>\"\u001b[0;36m, line \u001b[0;32m1\u001b[0m\n\u001b[0;31m    DROP TABLE IF EXISTS Admin;\u001b[0m\n\u001b[0m         ^\u001b[0m\n\u001b[0;31mSyntaxError\u001b[0m\u001b[0;31m:\u001b[0m invalid syntax\n"
     ]
    }
   ],
   "source": [
    "DROP TABLE IF EXISTS Admin;\n",
    "DROP TABLE IF EXISTS Lecturer;\n",
    "DROP TABLE IF EXISTS Student;\n",
    "DROP TABLE IF EXISTS Subject;\n",
    "DROP TABLE IF EXISTS Lecturer_Workload;\n",
    "DROP TABLE IF EXISTS Subject_Registered;\n",
    "DROP TABLE IF EXISTS Quiz_TF;\n",
    "DROP TABLE IF EXISTS Quiz_Obj;\n",
    "\n",
    "CREATE TABLE Admin(\n",
    "    admin_id INTEGER PRIMARY KEY NOT NULL,\n",
    "    admin_name TEXT(30) NOT NULL,\n",
    "    admin_pwd TEXT(20) NOT NULL\n",
    ");\n",
    "\n",
    "CREATE TABLE Lecturer(\n",
    "    lect_id INTEGER PRIMARY KEY NOT NULL,\n",
    "    lect_name TEXT(50) NOT NULL,\n",
    "    lect_email TEXT(20),\n",
    "    lect_pwd TEXT(20) NOT NULL,\n",
    "    lecturer_modify_date TIMESTAMP NOT NULL DEFAULT CURRENT_TIMESTAMP,\n",
    "    admin_id INTEGER NOT NULL,\n",
    "    FOREIGN KEY(admin_id) REFERENCES Admin(admin_id)\n",
    ");\n",
    "CREATE TABLE Student(\n",
    "    student_id INTEGER PRIMARY KEY NOT NULL,\n",
    "    student_name TEXT(50) NOT NULL,\n",
    "    student_email TEXT(20),\n",
    "    student_pwd TEXT(20) NOT NULL,\n",
    "    student_modify_date TIMESTAMP NOT NULL DEFAULT CURRENT_TIMESTAMP,\n",
    "    admin_id INTEGER NOT NULL,\n",
    "    FOREIGN KEY(admin_id) REFERENCES Admin(admin_id)\n",
    ");\n",
    "CREATE TABLE Subject(\n",
    "    subject_id INTEGER PRIMARY KEY NOT NULL,\n",
    "    subject_name TEXT(50) NOT NULL,\n",
    "    subject_modify_date TIMESTAMP NOT NULL DEFAULT CURRENT_TIMESTAMP,\n",
    "    admin_id INTEGER NOT NULL,\n",
    "    FOREIGN KEY(admin_id) REFERENCES Admin(admin_id)\n",
    ");\n",
    "CREATE TABLE Lecturer_Workload(\n",
    "    workload_id INTEGER PRIMARY KEY NOT NULL,\n",
    "    subject_id INTEGER NOT NULL,\n",
    "    lect_id INTEGER NOT NULL,\n",
    "    FOREIGN KEY(subject_id) REFERENCES Subject(subject_id),\n",
    "    FOREIGN KEY(lect_id) REFERENCES Lecturer(lect_id)\n",
    ");\n",
    "CREATE TABLE Subject_Registered(\n",
    "    subj_reg_id INTEGER PRIMARY KEY NOT NULL,\n",
    "    quizTF_mark INTEGER NOT NULL,\n",
    "    quizObj_mark INTEGER NOT NULL,\n",
    "    workload_id INTEGER NOT NULL,\n",
    "    student_id INTEGER NOT NULL,\n",
    "    FOREIGN KEY(workload_id) REFERENCES Lecturer_Workload(workload_id),\n",
    "    FOREIGN KEY(student_id) REFERENCES Student(student_id)\n",
    ");\n",
    "CREATE TABLE Quiz_TF(\n",
    "    quizTF_id INTEGER PRIMARY KEY NOT NULL,\n",
    "    quizTF_True INTEGER NOT NULL,\n",
    "    quizTF_modify_date TIMESTAMP NOT NULL DEFAULT CURRENT_TIMESTAMP,\n",
    "    quizTF_Questions TEXT(60) NOT NULL,\n",
    "    workload_id INTEGER NOT NULL,\n",
    "    FOREIGN KEY(workload_id) REFERENCES Lecturer_Workload(workload_id)\n",
    ");\n",
    "CREATE TABLE Quiz_Obj(\n",
    "    quizObj_id INTEGER PRIMARY KEY NOT NULL,\n",
    "    quizObj_Questions TEXT(60) NOT NULL,\n",
    "    quiz_answerA INTEGER,\n",
    "    quiz_answerB INTEGER,\n",
    "    quiz_answerC INTEGER,\n",
    "    quiz_answerD INTEGER,\n",
    "    quiz_correct_ans TEXT(1) NOT NULL,\n",
    "    quizObj_modify_date TIMESTAMP NOT NULL DEFAULT CURRENT_TIMESTAMP,\n",
    "    workload_id INTEGER NOT NULL,\n",
    "    FOREIGN KEY(workload_id) REFERENCES Lecturer_Workload(workload_id)\n",
    ");"
   ]
  },
  {
   "cell_type": "code",
   "execution_count": 14,
   "metadata": {},
   "outputs": [
    {
     "output_type": "error",
     "ename": "SyntaxError",
     "evalue": "invalid syntax (<ipython-input-14-232b01b60319>, line 1)",
     "traceback": [
      "\u001b[0;36m  File \u001b[0;32m\"<ipython-input-14-232b01b60319>\"\u001b[0;36m, line \u001b[0;32m1\u001b[0m\n\u001b[0;31m    SELECT * FROM Admin;\u001b[0m\n\u001b[0m                  ^\u001b[0m\n\u001b[0;31mSyntaxError\u001b[0m\u001b[0;31m:\u001b[0m invalid syntax\n"
     ]
    }
   ],
   "source": [
    "SELECT * FROM Admin;\n"
   ]
  },
  {
   "cell_type": "code",
   "execution_count": null,
   "metadata": {},
   "outputs": [],
   "source": []
  }
 ]
}